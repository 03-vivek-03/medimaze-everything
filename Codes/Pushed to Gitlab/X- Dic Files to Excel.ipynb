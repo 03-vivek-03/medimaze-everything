{
 "cells": [
  {
   "cell_type": "code",
   "execution_count": null,
   "id": "d6a994e3",
   "metadata": {
    "vscode": {
     "languageId": "plaintext"
    }
   },
   "outputs": [],
   "source": [
    "import os\n",
    "import pydicom\n",
    "import openpyxl\n",
    "\n",
    "def extract_dicom_info(dicom_filepath):\n",
    "    try:\n",
    "        ds = pydicom.read_file(dicom_filepath)\n",
    "        patient_name = ds.PatientName.decode('utf-8')  # Handle potential encoding issues\n",
    "        filename = os.path.basename(dicom_filepath)\n",
    "        return patient_name, filename\n",
    "    except Exception as e:\n",
    "        print(f\"Error processing DICOM file '{dicom_filepath}': {e}\")\n",
    "        return None\n",
    "\n",
    "def export_to_excel(data, excel_filename):\n",
    "    try:\n",
    "        wb = openpyxl.Workbook()\n",
    "        ws = wb.active\n",
    "        ws.append([\"Patient Name\", \"Filename\"])\n",
    "\n",
    "        for row in data:\n",
    "            if row is not None:\n",
    "                ws.append(row)\n",
    "\n",
    "        wb.save(excel_filename)\n",
    "        print(f\"Data successfully exported to '{excel_filename}'.\")\n",
    "    except Exception as e:\n",
    "        print(f\"Error exporting data to Excel: {e}\")\n",
    "\n",
    "if __name__ == \"__main__\":\n",
    "    main_folder = \"F:/Data Results/2018/MH/Normal/Female/18 to 30\"  # Replace with your folder path\n",
    "    excel_filename = f\"{main_folder}/dicom_info.xlsx\"\n",
    "\n",
    "    extracted_data = []\n",
    "    for patient_folder in os.listdir(main_folder):\n",
    "        if os.path.isdir(os.path.join(main_folder, patient_folder)):\n",
    "            patient_folder_path = os.path.join(main_folder, patient_folder)\n",
    "            for filename in os.listdir(patient_folder_path):\n",
    "                if filename.endswith(\".dic\"):\n",
    "                    filepath = os.path.join(patient_folder_path, filename)\n",
    "                    patient_name, filename = extract_dicom_info(filepath)\n",
    "                    if patient_name is not None:  # Only append successful extractions\n",
    "                        extracted_data.append((patient_name, filename))\n",
    "\n",
    "    export_to_excel(extracted_data, excel_filename)"
   ]
  }
 ],
 "metadata": {
  "kernelspec": {
   "display_name": "Python 3 (ipykernel)",
   "language": "python",
   "name": "python3"
  },
  "language_info": {
   "codemirror_mode": {
    "name": "ipython",
    "version": 3
   },
   "file_extension": ".py",
   "mimetype": "text/x-python",
   "name": "python",
   "nbconvert_exporter": "python",
   "pygments_lexer": "ipython3",
   "version": "3.11.6"
  }
 },
 "nbformat": 4,
 "nbformat_minor": 5
}
