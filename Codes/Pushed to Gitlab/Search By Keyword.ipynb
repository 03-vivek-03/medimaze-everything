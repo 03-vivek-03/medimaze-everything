{
 "cells": [
  {
   "cell_type": "code",
   "execution_count": null,
   "id": "d6a994e3",
   "metadata": {
    "vscode": {
     "languageId": "plaintext"
    }
   },
   "outputs": [],
   "source": [
    "import os\n",
    "import chardet\n",
    "import shutil\n",
    "from tqdm.auto import tqdm\n",
    "from bs4 import BeautifulSoup\n",
    "\n",
    "c1 = 0\n",
    "c2 = 0\n",
    "\n",
    "main_path = r\"F:\\Data Results\\2020\\08-12\\Others\\Upper Extremities\\CR\"\n",
    "move_path = r\"F:\\Data Results\\2020\\08-12\\Others\\Upper Extremities\\Wrist Fracture CR\"\n",
    "\n",
    "total1 = 0\n",
    "\n",
    "for folder in tqdm(os.listdir(main_path), leave=False):\n",
    "    new_path = os.path.join(main_path, folder)\n",
    "    for fol in os.listdir(new_path):\n",
    "        if fol.startswith('Approved'):\n",
    "            total1 += 1\n",
    "            report_file_path = os.path.join(new_path, fol)\n",
    "            try:\n",
    "                with open(report_file_path, 'rb') as f:\n",
    "                    raw_data = f.read()\n",
    "                    encoding_result = chardet.detect(raw_data)\n",
    "                    file_encoding = encoding_result['encoding']\n",
    "\n",
    "                with open(report_file_path, 'r', encoding=file_encoding) as f:\n",
    "                    content = f.read()\n",
    "\n",
    "                soup = BeautifulSoup(content, 'html.parser')\n",
    "\n",
    "                text = soup.get_text().lower()\n",
    "\n",
    "                if \"study:wrist\" in text and \"fracture\" in text:\n",
    "                    d_path=os.path.join(rib_dest, folder)\n",
    "                    shutil.move(new_path, d_path)\n",
    "                    c1 += 1\n",
    "                else \"ct scan of brain\" in text:\n",
    "                    d_path=os.path.join(rib_dest, folder)\n",
    "                    shutil.move(new_path, d_path)\n",
    "                    c2 += 1\n",
    "            except FileNotFoundError as e:\n",
    "                continue"
   ]
  }
 ],
 "metadata": {
  "kernelspec": {
   "display_name": "Python 3 (ipykernel)",
   "language": "python",
   "name": "python3"
  },
  "language_info": {
   "codemirror_mode": {
    "name": "ipython",
    "version": 3
   },
   "file_extension": ".py",
   "mimetype": "text/x-python",
   "name": "python",
   "nbconvert_exporter": "python",
   "pygments_lexer": "ipython3",
   "version": "3.11.6"
  }
 },
 "nbformat": 4,
 "nbformat_minor": 5
}
