{
 "cells": [
  {
   "cell_type": "code",
   "execution_count": null,
   "id": "d6a994e3",
   "metadata": {
    "vscode": {
     "languageId": "plaintext"
    }
   },
   "outputs": [],
   "source": [
    "import os\n",
    "from tqdm.auto import tqdm\n",
    "import pydicom\n",
    "from PIL import Image\n",
    "\n",
    "def dicom_to_16bit_png(dicom_path, output_folder):\n",
    "    ds = pydicom.dcmread(dicom_path)\n",
    "    pixel_array = ds.pixel_array\n",
    "\n",
    "    # Convert to 16-bit unsigned integer (0-65535 range)\n",
    "    pixel_array = (pixel_array / pixel_array.max()) * 65535\n",
    "    pixel_array = pixel_array.astype('uint16')\n",
    "    # Create the PIL image and save as PNG\n",
    "    filename = os.path.splitext(os.path.basename(dicom_path))[0] + '.png'\n",
    "    output_path = os.path.join(output_folder, filename)\n",
    "    image = Image.fromarray(pixel_array, mode='I;16')\n",
    "    image.save(output_path)\n",
    "\n",
    "def convert_dicoms_to_png(source_folder, output_folder):\n",
    "    for patient_folder in tqdm(os.listdir(source_folder)):\n",
    "        patient_folder_path = os.path.join(source_folder, patient_folder)\n",
    "        \n",
    "        if not os.path.isdir(patient_folder_path):\n",
    "            continue\n",
    "\n",
    "        for folder in os.listdir(patient_folder_path):\n",
    "            folder_path = os.path.join(patient_folder_path, folder)\n",
    "            \n",
    "            if not os.path.isdir(folder_path):\n",
    "                continue\n",
    "            \n",
    "            for dicom in os.listdir(folder_path):\n",
    "                if dicom.endswith(\".dic\"):\n",
    "                    dicom_path = os.path.join(folder_path, dicom)\n",
    "                    dicom_to_16bit_png(dicom_path, output_folder)\n",
    "                    break\n",
    "\n",
    "if __name__ == \"__main__\":\n",
    "    source_folder = r\"F:\\2023 Data\\Internal Training\\Kochs 200\"\n",
    "    output_folder = r\"F:\\2023 Data\\Internal Training\\Kochs PNG\"\n",
    "    \n",
    "    convert_dicoms_to_png(source_folder, output_folder)\n",
    "print(\"-\"*10)"
   ]
  }
 ],
 "metadata": {
  "kernelspec": {
   "display_name": "Python 3 (ipykernel)",
   "language": "python",
   "name": "python3"
  },
  "language_info": {
   "codemirror_mode": {
    "name": "ipython",
    "version": 3
   },
   "file_extension": ".py",
   "mimetype": "text/x-python",
   "name": "python",
   "nbconvert_exporter": "python",
   "pygments_lexer": "ipython3",
   "version": "3.11.6"
  }
 },
 "nbformat": 4,
 "nbformat_minor": 5
}
